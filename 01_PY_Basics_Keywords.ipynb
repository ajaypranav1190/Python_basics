{
 "cells": [
  {
   "cell_type": "markdown",
   "metadata": {},
   "source": [
    "# Python Keywords"
   ]
  },
  {
   "cell_type": "markdown",
   "metadata": {},
   "source": [
    "Keywords are the reserved words in Python. \n",
    "\n",
    "We cannot use a keyword as variable name, function name or any other identifier.\n",
    "\n",
    "The 33 keywords in Python 3.6."
   ]
  },
  {
   "cell_type": "markdown",
   "metadata": {},
   "source": [
    "<table width='100%'>\n",
    "<tr><th>and</tc><th>del</tc><th>from</tc><th>not</tc><th>while</tc></tr>\n",
    "<tr><th>as</tc><th> elif</tc><th>global</tc><th>or</tc><th> with</tc></tr>\n",
    "<tr><th>assert</tc><th>else</tc><th>if</tc><th> pass</tc><th>yield</tc></tr>\n",
    "<tr><th>break</tc><th> except</tc><th>import</tc><th>print</tc></tr>\n",
    "<tr><th>class</tc><th> exec</tc><th>in</tc><th> raise</tc></tr>\n",
    "<tr><th>continue</tc><th>finally</tc><th> is</tc><th> return </tc></tr>\n",
    "<tr><th>def</tc><th>for</tc><th>lambda</tc><th>try</tc></tr>\n",
    "</table>"
   ]
  },
  {
   "cell_type": "code",
   "execution_count": 1,
   "metadata": {},
   "outputs": [
    {
     "name": "stdout",
     "output_type": "stream",
     "text": [
      "['False', 'None', 'True', 'and', 'as', 'assert', 'break', 'class', 'continue', 'def', 'del', 'elif', 'else', 'except', 'finally', 'for', 'from', 'global', 'if', 'import', 'in', 'is', 'lambda', 'nonlocal', 'not', 'or', 'pass', 'raise', 'return', 'try', 'while', 'with', 'yield']\n"
     ]
    }
   ],
   "source": [
    "#Use the below code to print all the keyword list:\n",
    "import keyword\n",
    "\n",
    "print(keyword.kwlist)"
   ]
  }
 ],
 "metadata": {
  "kernelspec": {
   "display_name": "Python 3",
   "language": "python",
   "name": "python3"
  },
  "language_info": {
   "codemirror_mode": {
    "name": "ipython",
    "version": 3
   },
   "file_extension": ".py",
   "mimetype": "text/x-python",
   "name": "python",
   "nbconvert_exporter": "python",
   "pygments_lexer": "ipython3",
   "version": "3.6.7"
  }
 },
 "nbformat": 4,
 "nbformat_minor": 2
}
