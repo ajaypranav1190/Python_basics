{
 "cells": [
  {
   "cell_type": "markdown",
   "metadata": {},
   "source": [
    "# Comments"
   ]
  },
  {
   "cell_type": "markdown",
   "metadata": {},
   "source": [
    "Comments improve the readability and reusability of your code by others.\n",
    "\n",
    "Type of comments:\n",
    "    * Single line comment\n",
    "    * Multiline comment"
   ]
  },
  {
   "cell_type": "code",
   "execution_count": 1,
   "metadata": {},
   "outputs": [],
   "source": [
    "#Single line comment\n",
    "\n",
    "a=10\n",
    "#a=10 #Commented line\n",
    "\n",
    "#--> is used to comment a line"
   ]
  },
  {
   "cell_type": "code",
   "execution_count": 2,
   "metadata": {},
   "outputs": [],
   "source": [
    "# Multi line comment\n",
    "\n",
    "a=10\n",
    "b=10\n",
    "c=a+b\n",
    "\n",
    "#a=10\n",
    "#b=10\n",
    "#c=a+b\n"
   ]
  },
  {
   "cell_type": "code",
   "execution_count": null,
   "metadata": {},
   "outputs": [],
   "source": [
    "#Use \"\"\" for Multi line Comment\n",
    "\n",
    "a=1\n",
    "b=2\n",
    "c=a+b\n",
    "\n",
    "\"\"\"\n",
    "a=1 #These are commented lines\n",
    "b=2\n",
    "c=a+b\n",
    "\n",
    "\"\"\"\n"
   ]
  }
 ],
 "metadata": {
  "kernelspec": {
   "display_name": "Python 3",
   "language": "python",
   "name": "python3"
  },
  "language_info": {
   "codemirror_mode": {
    "name": "ipython",
    "version": 3
   },
   "file_extension": ".py",
   "mimetype": "text/x-python",
   "name": "python",
   "nbconvert_exporter": "python",
   "pygments_lexer": "ipython3",
   "version": "3.6.7"
  }
 },
 "nbformat": 4,
 "nbformat_minor": 2
}
