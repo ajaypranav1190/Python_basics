{
 "cells": [
  {
   "cell_type": "markdown",
   "metadata": {},
   "source": [
    "# Docstring"
   ]
  },
  {
   "cell_type": "markdown",
   "metadata": {},
   "source": [
    "Docstring is short for documentation string.\n",
    "\n",
    "String that occurs as the first statement in a module, function, class, \n",
    "or method definition. Used to define what a function/class does."
   ]
  },
  {
   "cell_type": "code",
   "execution_count": 1,
   "metadata": {},
   "outputs": [
    {
     "name": "stdout",
     "output_type": "stream",
     "text": [
      "400\n"
     ]
    }
   ],
   "source": [
    "def square(num):\n",
    "    \"\"\"\n",
    "    Function to square a number. \n",
    "    Print this docstring using __doc__ attribute of the function\n",
    "    \"\"\"\n",
    "    return num * num\n",
    "\n",
    "print(square(20))"
   ]
  },
  {
   "cell_type": "code",
   "execution_count": 2,
   "metadata": {},
   "outputs": [
    {
     "name": "stdout",
     "output_type": "stream",
     "text": [
      "\n",
      "    Function to square a number. \n",
      "    Print this docstring using __doc__ attribute of the function\n",
      "    \n"
     ]
    }
   ],
   "source": [
    "print(square.__doc__)      # To print the docstring of a function use the __doc__ attribute of the function"
   ]
  },
  {
   "cell_type": "code",
   "execution_count": null,
   "metadata": {},
   "outputs": [],
   "source": [
    "square                     # Press shift+tab to view the docstring"
   ]
  }
 ],
 "metadata": {
  "kernelspec": {
   "display_name": "Python 3",
   "language": "python",
   "name": "python3"
  },
  "language_info": {
   "codemirror_mode": {
    "name": "ipython",
    "version": 3
   },
   "file_extension": ".py",
   "mimetype": "text/x-python",
   "name": "python",
   "nbconvert_exporter": "python",
   "pygments_lexer": "ipython3",
   "version": "3.6.7"
  }
 },
 "nbformat": 4,
 "nbformat_minor": 2
}
