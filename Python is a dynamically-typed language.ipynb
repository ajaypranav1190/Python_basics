{
 "cells": [
  {
   "cell_type": "markdown",
   "metadata": {},
   "source": [
    "# What is a dynamically-typed language?"
   ]
  },
  {
   "cell_type": "code",
   "execution_count": null,
   "metadata": {},
   "outputs": [],
   "source": [
    "\"There are so much of definition for dynamically typed language, most are so much confusing and most of them are again \\ \n",
    "confusing static and dynamic typing vs strong and weak typing.\"\"\n",
    "\n",
    "#This is what i get from Google:\n",
    "\n",
    "\"A programming language is said to be dynamically typed, or just 'dynamic', when the majority of its type checking is\\ \n",
    "performed at run-time as opposed to at compile-time. In dynamic typing, types are associated with values not variables.\"\n",
    "\n",
    "\"Python is a dynamically-typed language. Java is a statically-typed language. In a weakly typed language, variables \\\n",
    "can be implicitly coerced to unrelated types, whereas in a strongly typed language they cannot, and an explicit conversion \\\n",
    "is required. ... Both Java and Python are strongly typed languages.\"\n",
    "\n"
   ]
  },
  {
   "cell_type": "code",
   "execution_count": 4,
   "metadata": {},
   "outputs": [
    {
     "name": "stdout",
     "output_type": "stream",
     "text": [
      "2 3 5\n",
      "<class 'int'> <class 'int'> <class 'int'>\n",
      "2 3.5 5.5\n",
      "<class 'int'> <class 'float'> <class 'float'>\n"
     ]
    }
   ],
   "source": [
    "\n",
    "#Python Example:\n",
    "\n",
    "a=2; b=3\n",
    "c=a+b\n",
    "print(a,b,c)\n",
    "print(type(a),type(b),type(c))\n",
    "\n",
    "# Data type for variables a, b & c are assigend automatically during the run time based on the values assigned to it.\n",
    "\n",
    "a=2; b=3.5\n",
    "c=a+b\n",
    "print(a,b,c)\n",
    "print(type(a),type(b),type(c))\n",
    "\n",
    "#For more refere the below link"
   ]
  },
  {
   "cell_type": "code",
   "execution_count": null,
   "metadata": {},
   "outputs": [],
   "source": [
    "#Read more:https://hackernoon.com/i-finally-understand-static-vs-dynamic-typing-and-you-will-too-ad0c2bd0acc7"
   ]
  }
 ],
 "metadata": {
  "kernelspec": {
   "display_name": "Python 3",
   "language": "python",
   "name": "python3"
  },
  "language_info": {
   "codemirror_mode": {
    "name": "ipython",
    "version": 3
   },
   "file_extension": ".py",
   "mimetype": "text/x-python",
   "name": "python",
   "nbconvert_exporter": "python",
   "pygments_lexer": "ipython3",
   "version": "3.6.7"
  }
 },
 "nbformat": 4,
 "nbformat_minor": 2
}
